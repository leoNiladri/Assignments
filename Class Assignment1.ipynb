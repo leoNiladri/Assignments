{
 "cells": [
  {
   "cell_type": "code",
   "execution_count": 2,
   "id": "51ea0607-954a-4c21-87b5-bbb863fb6cbc",
   "metadata": {},
   "outputs": [
    {
     "data": {
      "text/plain": [
       "'\\nbvsdhdbvfkhsdbvfk.\\nhvkjafvhjafvhja\\njhvgvhjafvhjavf\\nhvjgvda\\n'"
      ]
     },
     "execution_count": 2,
     "metadata": {},
     "output_type": "execute_result"
    }
   ],
   "source": [
    "#1.\n",
    "\"\"\"\n",
    "Indentation error basically look like if you miss out on adding tabs or space between your lines of cord.\n",
    "Indentation is important beacuse it compiled your code properly.\n",
    "\"\"\"\n",
    "# example\n",
    "a=10\n",
    "if a>5:\n",
    "print(\"Hello World\") #here you can see the indentation error.\n",
    "else:\n",
    "    print(\"Bye world\")"
   ]
  },
  {
   "cell_type": "code",
   "execution_count": 3,
   "id": "78703d6e-1176-4ccf-932f-62f129ce7999",
   "metadata": {},
   "outputs": [
    {
     "name": "stdin",
     "output_type": "stream",
     "text": [
      "Hey friend, is class started?: [0-False/1-True] 1\n"
     ]
    },
    {
     "name": "stdout",
     "output_type": "stream",
     "text": [
      "Since class started...\n",
      "Lets concentrate\n"
     ]
    }
   ],
   "source": [
    "#2\n",
    "class_started = bool(input(\"Hey friend, is class started?: [0-False/1-True]\"))\n",
    "\n",
    "if class_started:\n",
    "    print(\"Since class started...\")#here i made the correction\n",
    "    print(\"Lets concentrate\")#here i made the correction\n",
    "else:\n",
    "    print(\"Since class is not started...\")#here i made the correction\n",
    "    print(\"let's revise\")   #here i made the correction"
   ]
  },
  {
   "cell_type": "code",
   "execution_count": 12,
   "id": "13e1b6a4-6ae8-40fc-81ef-1abe341b0387",
   "metadata": {},
   "outputs": [
    {
     "name": "stdin",
     "output_type": "stream",
     "text": [
      "input : 25\n"
     ]
    },
    {
     "name": "stdout",
     "output_type": "stream",
     "text": [
      "Input is always a string\n"
     ]
    }
   ],
   "source": [
    "#3\n",
    "inputs=input(\"input :\")\n",
    "if type(inputs)==str:\n",
    "    print(\"Input is always a string\")\n",
    "else:\n",
    "    print(\"Inpunt isn't a string\")\n",
    "\n",
    "\n"
   ]
  },
  {
   "cell_type": "code",
   "execution_count": 15,
   "id": "b72632fb-6f42-453c-bd28-ed2987247a0d",
   "metadata": {},
   "outputs": [
    {
     "name": "stdout",
     "output_type": "stream",
     "text": [
      "A is the biggest num.The num is 10\n"
     ]
    }
   ],
   "source": [
    "#4\n",
    "a=10\n",
    "b=6\n",
    "c=8\n",
    "if a>b and a>c:\n",
    "    print(f\"A is the biggest num.The num is {a}\")\n",
    "elif b>a and b>c:\n",
    "    print(f\"B is the biggest num.The num is {b}\")\n",
    "else:\n",
    "    print(f\"C is the biggest num.The num is {c}\")\n",
    "    "
   ]
  },
  {
   "cell_type": "code",
   "execution_count": 2,
   "id": "e9c61c4b-79fc-4990-85ec-46d4fda823d1",
   "metadata": {},
   "outputs": [
    {
     "name": "stdout",
     "output_type": "stream",
     "text": [
      "False\n"
     ]
    }
   ],
   "source": [
    "#5\n",
    "a = 6\n",
    "b = 10\n",
    "print( not ( not a == 10 or not b == 10) ) #The out put will be False\n"
   ]
  },
  {
   "cell_type": "code",
   "execution_count": 9,
   "id": "4dc77362-9f5d-400a-bae8-65693bbae3f3",
   "metadata": {},
   "outputs": [
    {
     "name": "stdout",
     "output_type": "stream",
     "text": [
      "False\n"
     ]
    }
   ],
   "source": [
    "#6\n",
    "#case 1\n",
    "A = 5.0\n",
    "B = 10/2 #The result is 5.0\n",
    "print(A is B) # Here its giving us false beacuse the \"is\" operator compare the id() position not the value.\n",
    "\n"
   ]
  },
  {
   "cell_type": "code",
   "execution_count": 14,
   "id": "676dd5c6-f5d2-48cc-89d9-b70d8ff699b6",
   "metadata": {},
   "outputs": [
    {
     "name": "stdout",
     "output_type": "stream",
     "text": [
      "False\n"
     ]
    }
   ],
   "source": [
    "#case 2\n",
    "A = 5.0\n",
    "B = int(10/2) #The result is 5\n",
    "print(A is B) # Here its giving us false beacuse the \"is\" operator compare the id() position not the value."
   ]
  },
  {
   "cell_type": "code",
   "execution_count": 13,
   "id": "092f5a24-5841-43c0-a45c-10a11c53b689",
   "metadata": {},
   "outputs": [
    {
     "name": "stdout",
     "output_type": "stream",
     "text": [
      "False\n"
     ]
    }
   ],
   "source": [
    "#case 3\n",
    "A = 5.0\n",
    "B = float(10/2) #The result is 5.0\n",
    "print(A is B)  # Here its giving us false beacuse the \"is\" operator compare the id() position not the value."
   ]
  },
  {
   "cell_type": "code",
   "execution_count": 15,
   "id": "aad5eabc-a294-4470-b66c-6eef1ff8b6ba",
   "metadata": {},
   "outputs": [
    {
     "name": "stdout",
     "output_type": "stream",
     "text": [
      "integer division: 25/5=5\n"
     ]
    }
   ],
   "source": [
    "var_a = 5\n",
    "var_b = 25\n",
    "integer_division = var_b // var_a\n",
    "print(f\"integer division: {var_b}/{var_a}={integer_division}\")"
   ]
  },
  {
   "cell_type": "code",
   "execution_count": 16,
   "id": "990bc1b3-5788-4638-83b6-c214154fffa2",
   "metadata": {},
   "outputs": [
    {
     "name": "stdout",
     "output_type": "stream",
     "text": [
      "integer division: 25/3=8\n"
     ]
    }
   ],
   "source": [
    "var_a = 3\n",
    "var_b = 25\n",
    "integer_division = var_b // var_a\n",
    "print(f\"integer division: {var_b}/{var_a}={integer_division}\")"
   ]
  },
  {
   "cell_type": "code",
   "execution_count": 17,
   "id": "0d73a539-02a4-482b-83ff-1026c310102d",
   "metadata": {},
   "outputs": [
    {
     "name": "stdout",
     "output_type": "stream",
     "text": [
      "remainder: 25/5 is 0\n"
     ]
    }
   ],
   "source": [
    "var_a = 5\n",
    "var_b = 25\n",
    "remainder = var_b % var_a\n",
    "print(f\"remainder: {var_b}/{var_a} is {remainder}\")"
   ]
  },
  {
   "cell_type": "code",
   "execution_count": 18,
   "id": "1fc925d3-8b8d-45b7-93c6-915ef4f0007f",
   "metadata": {},
   "outputs": [
    {
     "name": "stdout",
     "output_type": "stream",
     "text": [
      "remainder: 25/3 is 1\n"
     ]
    }
   ],
   "source": [
    "var_a = 3\n",
    "var_b = 25\n",
    "remainder = var_b % var_a\n",
    "print(f\"remainder: {var_b}/{var_a} is {remainder}\")"
   ]
  },
  {
   "cell_type": "code",
   "execution_count": 20,
   "id": "683d93a5-245b-4a24-8e13-c6f0d6deef8a",
   "metadata": {},
   "outputs": [
    {
     "name": "stdin",
     "output_type": "stream",
     "text": [
      "input a nuumber :  20\n"
     ]
    },
    {
     "name": "stdout",
     "output_type": "stream",
     "text": [
      "The number isn't divisible by 3 and 5\n"
     ]
    }
   ],
   "source": [
    "#7\n",
    "num=eval(input(\"input a nuumber : \"))\n",
    "if num%3==0 and num%5==0:\n",
    "    print(\"The number is divisible by 3 and 5\")\n",
    "else:\n",
    "    print(\"The number isn't divisible by 3 and 5\")"
   ]
  },
  {
   "cell_type": "code",
   "execution_count": 25,
   "id": "27ab2ebc-f238-4eb2-864e-6c5f7df8bec4",
   "metadata": {},
   "outputs": [
    {
     "name": "stdin",
     "output_type": "stream",
     "text": [
      "input the leangth : 5\n",
      "input the leangth : 6\n"
     ]
    },
    {
     "name": "stdout",
     "output_type": "stream",
     "text": [
      "30\n"
     ]
    }
   ],
   "source": [
    "#8\n",
    "leanth=eval(input(\"input the leangth :\"))\n",
    "width=eval(input(\"input the leangth :\"))\n",
    "area= leanth*width\n",
    "if area==leanth**2 and area==width**2:\n",
    "    print(\"area is squar of the leangth and width\")\n",
    "else:\n",
    "    print(area)"
   ]
  },
  {
   "cell_type": "code",
   "execution_count": 28,
   "id": "991e8cc9-89e9-469c-ba42-3f0cda0bf8b8",
   "metadata": {},
   "outputs": [
    {
     "name": "stdin",
     "output_type": "stream",
     "text": [
      "input the radius : 8\n",
      "input the radius : 9\n"
     ]
    },
    {
     "name": "stdout",
     "output_type": "stream",
     "text": [
      "50.29\n",
      "56.57\n",
      "area 1 and 2 aren't same \n"
     ]
    }
   ],
   "source": [
    "#9\n",
    "radius_1=eval(input(\"input the radius :\"))\n",
    "radius_2=eval(input(\"input the radius :\"))\n",
    "area_1=round((2*22/7*radius_1),2)\n",
    "area_2=round((2*22/7*radius_2),2)\n",
    "print(area_1)\n",
    "print(area_2)\n",
    "if area_1==area_2:\n",
    "    print(\"Both area 1 and two are same \")\n",
    "else:\n",
    "    print(\"area 1 and 2 aren't same \")"
   ]
  },
  {
   "cell_type": "code",
   "execution_count": 36,
   "id": "78090b70-2fd8-4ef0-8df7-76722807b2c3",
   "metadata": {},
   "outputs": [
    {
     "name": "stdin",
     "output_type": "stream",
     "text": [
      "Type a year :  2023\n"
     ]
    },
    {
     "name": "stdout",
     "output_type": "stream",
     "text": [
      "Its not a leep year\n"
     ]
    }
   ],
   "source": [
    "#10\n",
    "year=eval(input(\"Type a year : \"))\n",
    "if year%4==0:\n",
    "    if year%400==0:\n",
    "        print(\"Its a century that is leep year\")\n",
    "    else:\n",
    "        print(\"It's a leep year\")\n",
    "else:\n",
    "    print(\"Its not a leep year\")"
   ]
  },
  {
   "cell_type": "code",
   "execution_count": null,
   "id": "2f480bd9-11cd-4bf4-a2cd-a3674d804e0e",
   "metadata": {},
   "outputs": [],
   "source": []
  },
  {
   "cell_type": "code",
   "execution_count": null,
   "id": "716f5929-f1ef-44a8-ac6c-07047cb002bc",
   "metadata": {},
   "outputs": [],
   "source": []
  },
  {
   "cell_type": "code",
   "execution_count": null,
   "id": "c654ec51-b45f-4cff-bda0-5f2777030fe4",
   "metadata": {},
   "outputs": [],
   "source": []
  },
  {
   "cell_type": "code",
   "execution_count": null,
   "id": "a777d1f9-ba5f-4c2b-9154-2bb26c8e38b7",
   "metadata": {},
   "outputs": [],
   "source": []
  },
  {
   "cell_type": "code",
   "execution_count": null,
   "id": "42e3b38d-2657-4703-86ee-51ea45d6a727",
   "metadata": {},
   "outputs": [],
   "source": []
  },
  {
   "cell_type": "code",
   "execution_count": null,
   "id": "0c255436-d104-4081-b17b-05441434cc49",
   "metadata": {},
   "outputs": [],
   "source": []
  },
  {
   "cell_type": "code",
   "execution_count": null,
   "id": "c3edf6c3-2c34-4659-8edf-367b0197d952",
   "metadata": {},
   "outputs": [],
   "source": []
  }
 ],
 "metadata": {
  "kernelspec": {
   "display_name": "Python 3 (ipykernel)",
   "language": "python",
   "name": "python3"
  },
  "language_info": {
   "codemirror_mode": {
    "name": "ipython",
    "version": 3
   },
   "file_extension": ".py",
   "mimetype": "text/x-python",
   "name": "python",
   "nbconvert_exporter": "python",
   "pygments_lexer": "ipython3",
   "version": "3.10.6"
  }
 },
 "nbformat": 4,
 "nbformat_minor": 5
}
