{
 "cells": [
  {
   "cell_type": "code",
   "execution_count": null,
   "id": "afb26a57-a466-4ed8-a277-28744c30bf3a",
   "metadata": {},
   "outputs": [],
   "source": [
    "#1. Why are functions advantageous to have in your programs?\n",
    "\"\"\"\n",
    "Functions enhances the readability of a programe. While understanding a whole programe is quite difficult but if we divided the whole programe \n",
    "into some funtions it will easy to uderstand. And another advantage of function is it can be tested individually, which is more convinient than\n",
    "test the whole programe.\n",
    "\n",
    "\"\"\""
   ]
  },
  {
   "cell_type": "code",
   "execution_count": null,
   "id": "870d4090-ccdd-4dfd-8482-cff0a1c2bd56",
   "metadata": {},
   "outputs": [],
   "source": [
    "#2. When does the code in a function run: when it's specified or when it's called?\n",
    "\"\"\"\n",
    "When we call the function only then the code inside if a function will run.\\\n",
    "\n",
    "like-\n",
    "\n",
    "def test1():\n",
    "    print(\"Hello World\")\n",
    "    \n",
    "test1()  -  when you call the function like this, it will works.\n",
    "\"\"\""
   ]
  },
  {
   "cell_type": "code",
   "execution_count": null,
   "id": "3de72192-94a4-472b-bbbd-ab7e21155f89",
   "metadata": {},
   "outputs": [],
   "source": [
    "#3. What statement creates a function?\n",
    "\"\"\"\n",
    "The funtion creating statement is \"def\"\n",
    "\"\"\""
   ]
  },
  {
   "cell_type": "code",
   "execution_count": null,
   "id": "c43cd1d8-6000-41bf-bd2a-38460e6884ef",
   "metadata": {},
   "outputs": [],
   "source": [
    "#4. What is the difference between a function and a function call?\n",
    "\"\"\"\n",
    "In funtion you will wite your code that you want to run.\n",
    "And in the funtion call you will call the function to run your code.\n",
    "\"\"\""
   ]
  },
  {
   "cell_type": "code",
   "execution_count": null,
   "id": "e1a1278b-c228-4418-a1bd-a8115e975e8d",
   "metadata": {},
   "outputs": [],
   "source": [
    "#5. How many global scopes are there in a Python program? How many local scopes?\n",
    "\"\"\"\n",
    "There is only one global scopes in python. Which is called outside of a funtion.\n",
    "And there is only one local scope in python. Which is called inside of a function. \n",
    "\"\"\""
   ]
  },
  {
   "cell_type": "code",
   "execution_count": null,
   "id": "c618c913-af71-446d-b252-dfb1ea1302f8",
   "metadata": {},
   "outputs": [],
   "source": [
    "#6. What happens to variables in a local scope when the function call returns?\n",
    "\"\"\"\n",
    "By default, the assignment statement creates variables in the local scope.\n",
    "So the assignment inside the function does not modify the global variable a – \n",
    "it creates a new local variable called a , and assigns the value 3 to that variable.\n",
    "\"\"\""
   ]
  },
  {
   "cell_type": "code",
   "execution_count": null,
   "id": "ddcb0361-5aaa-4105-a926-c8354740a761",
   "metadata": {},
   "outputs": [],
   "source": [
    "#7. What is the concept of a return value? Is it possible to have a return value in an expression?\n",
    "\"\"\"\n",
    "A return statement is used to end the execution of the function call and “returns” the result to the caller.\n",
    "The statements after the return statements are not executed. If the return statement is without any expression,\n",
    "then the special value None is returned. A return statement is overall used to invoke a function so that \n",
    "the passed statements can be executed.\n",
    "\n",
    "Yes it is possible to have a return value in an expression.\n",
    "\"\"\"\n"
   ]
  },
  {
   "cell_type": "code",
   "execution_count": null,
   "id": "2aa9cc32-69bf-4a46-a7e4-c6dcb356039a",
   "metadata": {},
   "outputs": [],
   "source": [
    "#8. If a function does not have a return statement, what is the return value of a call to that function?\n",
    "\"\"\"\n",
    "If a funtion does not have a retun statement, the return value of a call to the funtion is undefiend.\n",
    "\"\"\"\n"
   ]
  },
  {
   "cell_type": "code",
   "execution_count": null,
   "id": "6dffc749-8082-4805-8640-4e59f04cf513",
   "metadata": {},
   "outputs": [],
   "source": [
    "#9. How do you make a function variable refer to the global variable?\n",
    "\"\"\"\n",
    "If you use the global assignment operator \"<<-\" then you can make a function variable refer to the global variable.\n",
    "\"\"\""
   ]
  },
  {
   "cell_type": "code",
   "execution_count": null,
   "id": "ac3cbce2-5c9c-49a3-9458-3aa39a590987",
   "metadata": {},
   "outputs": [],
   "source": [
    "#10. What is the data type of None?\n",
    "\"\"\"\n",
    "The None keyword is use to define a null value.\n",
    "None isn't the same as 0,False or empty string. None is a data type of its own and only none can be none.\n",
    "\"\"\""
   ]
  },
  {
   "cell_type": "code",
   "execution_count": null,
   "id": "b590f577-80da-41f4-84d5-654f96c4ba6d",
   "metadata": {},
   "outputs": [],
   "source": [
    "#11. What does the sentence import areallyourpetsnamederic do?\n",
    "\"\"\"\n",
    "That import statements import the module called areallyourpetsnamederic.\n",
    "\"\"\""
   ]
  },
  {
   "cell_type": "code",
   "execution_count": null,
   "id": "4cdfc7c6-d59f-4a21-b57f-803a4c4eb86d",
   "metadata": {},
   "outputs": [],
   "source": [
    "#12. If you had a bacon() feature in a spam module, what would you call it after importing spam?\n",
    "\"\"\"\n",
    "import spam\n",
    "spam.bacon()\n",
    "\"\"\""
   ]
  },
  {
   "cell_type": "code",
   "execution_count": null,
   "id": "d6bd2541-ff0e-486a-b94b-8125c24e84a1",
   "metadata": {},
   "outputs": [],
   "source": [
    "#13. What can you do to save a programme from crashing if it encounters an error?\n",
    "\"\"\"\n",
    "I will try to run the operation again. If the problem is a race condition, it may work next time.\n",
    "\n",
    "Or try to restart a faulty subprogram in the background. Then retry the operation afterwards.\n",
    "\n",
    "Or try to manually fix the state of the program to something that works.\n",
    "\n",
    "Or offload the erroring operation to a server.\n",
    "\"\"\"\n"
   ]
  },
  {
   "cell_type": "code",
   "execution_count": null,
   "id": "925aede8-45f5-46e9-9f9a-5b04e382dc60",
   "metadata": {},
   "outputs": [],
   "source": [
    "#14. What is the purpose of the try clause? What is the purpose of the except clause?\n",
    "\"\"\"\n",
    "Try and Except statement is used to handle these errors within our code in Python.\n",
    "The try block is used to check some code for errors i.e the code inside the try block will execute when there is no error in the program.\n",
    "Whereas the code inside the except block will execute whenever the program encounters some error in the preceding try block.\n",
    "\"\"\""
   ]
  },
  {
   "cell_type": "code",
   "execution_count": null,
   "id": "93d60332-2e74-4fe1-bb44-49437d185807",
   "metadata": {},
   "outputs": [],
   "source": []
  },
  {
   "cell_type": "code",
   "execution_count": null,
   "id": "a4d96577-b3f7-4aaf-a53c-109bfbd1faab",
   "metadata": {},
   "outputs": [],
   "source": []
  },
  {
   "cell_type": "code",
   "execution_count": null,
   "id": "35c69eeb-3bd9-404a-837f-b4333d651ee5",
   "metadata": {},
   "outputs": [],
   "source": []
  },
  {
   "cell_type": "code",
   "execution_count": null,
   "id": "b0c2845e-6733-4114-84ce-fef5c764ebcb",
   "metadata": {},
   "outputs": [],
   "source": []
  },
  {
   "cell_type": "code",
   "execution_count": null,
   "id": "3885a4b4-0d16-41a4-9c67-c2eec9126554",
   "metadata": {},
   "outputs": [],
   "source": []
  },
  {
   "cell_type": "code",
   "execution_count": null,
   "id": "ab4c2853-9761-43e7-bc6b-6a0e6ec9e03b",
   "metadata": {},
   "outputs": [],
   "source": []
  },
  {
   "cell_type": "code",
   "execution_count": null,
   "id": "5dc3f305-f142-4e96-bda7-8888daab393f",
   "metadata": {},
   "outputs": [],
   "source": []
  },
  {
   "cell_type": "code",
   "execution_count": null,
   "id": "5a26b74e-0e0d-4dc1-8760-650c354aa4c3",
   "metadata": {},
   "outputs": [],
   "source": []
  }
 ],
 "metadata": {
  "kernelspec": {
   "display_name": "Python 3 (ipykernel)",
   "language": "python",
   "name": "python3"
  },
  "language_info": {
   "codemirror_mode": {
    "name": "ipython",
    "version": 3
   },
   "file_extension": ".py",
   "mimetype": "text/x-python",
   "name": "python",
   "nbconvert_exporter": "python",
   "pygments_lexer": "ipython3",
   "version": "3.10.6"
  }
 },
 "nbformat": 4,
 "nbformat_minor": 5
}
