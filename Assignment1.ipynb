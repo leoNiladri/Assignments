{
 "cells": [
  {
   "cell_type": "code",
   "execution_count": null,
   "id": "441281c4-40c9-45a7-9675-7b2f27508ec6",
   "metadata": {},
   "outputs": [],
   "source": [
    "#1. In the below elements which of them are values or an expression? eg:- values can be integer or string and expressions will be mathematical operators.\n",
    "\n",
    "* #mathematical operators\n",
    "'hello'#String\n",
    "-87.8 #Float\n",
    "- #mathematical operators\n",
    "/ #mathematical operators\n",
    "+ #mathematical operators\n",
    "6 #Intiger\n"
   ]
  },
  {
   "cell_type": "code",
   "execution_count": null,
   "id": "bc92b1c8-b9d5-4b12-9afa-97cee37839cb",
   "metadata": {},
   "outputs": [],
   "source": [
    "#2. What is the difference between string and variable?\n",
    "\"\"\"\n",
    "A string is a array of character's which is stroed in '',\"\",\"\"\"\"\"\". ex-\"Niladri\"\n",
    "And a variable is a container where we can save values, like a=\"Niladri\", here \"a\" is a variable which is contain \"Niladri\"=string. \n",
    "\"\"\"\n"
   ]
  },
  {
   "cell_type": "code",
   "execution_count": 3,
   "id": "51471184-5300-46b1-a1b1-c2b05a1c80af",
   "metadata": {},
   "outputs": [
    {
     "name": "stdout",
     "output_type": "stream",
     "text": [
      "<class 'int'>\n",
      "<class 'float'>\n"
     ]
    }
   ],
   "source": [
    "#3. Describe three different data types.\n",
    "#integer\n",
    "\"\"\"Intiger is neumeric value like 1,2.3,4,5 etc.\"\"\"\n",
    "a=5\n",
    "print(type(a))\n",
    "#Float\n",
    "\"\"\"Float is a decimal value like 2.0,3.0,5.55 etc.\"\"\"\n",
    "b=5.36\n",
    "print(type(b))\n",
    "#String\n",
    "\"\"\"\"\"\""
   ]
  },
  {
   "cell_type": "code",
   "execution_count": 1,
   "id": "143d7ed7-093a-41ce-866f-3d133774099b",
   "metadata": {},
   "outputs": [
    {
     "name": "stdout",
     "output_type": "stream",
     "text": [
      "121\n"
     ]
    }
   ],
   "source": [
    "#4. What is an expression made up of? What do all expressions do?\n",
    "\"\"\"\n",
    "A expression is a combination of oparetors and oparands that is interpreted to produce some other value.\n",
    "Ex- A=5+8\n",
    "A=8\n",
    "\"\"\"\n",
    "A=55+66\n",
    "print(A)"
   ]
  },
  {
   "cell_type": "code",
   "execution_count": null,
   "id": "17386d34-37f7-4c2b-bf0e-c8bedb7c2d80",
   "metadata": {},
   "outputs": [],
   "source": [
    "#5. This assignment statements, like spam = 10. What is the difference between an expression and a statement?\n",
    "\"\"\" The main difference between an expression and statement is expression can be assingned or use as oparands \n",
    "and statement is only declared.\"\"\"\n"
   ]
  },
  {
   "cell_type": "code",
   "execution_count": 5,
   "id": "9e24de6e-5b58-4ffe-8740-42b52e024855",
   "metadata": {},
   "outputs": [
    {
     "data": {
      "text/plain": [
       "23"
      ]
     },
     "execution_count": 5,
     "metadata": {},
     "output_type": "execute_result"
    }
   ],
   "source": [
    "#6. After running the following code, what does the variable bacon contain?\n",
    "bacon = 22\n",
    "bacon + 1 # bacon=23\n"
   ]
  },
  {
   "cell_type": "code",
   "execution_count": 9,
   "id": "ab0aef54-3a62-4ea7-a16c-3f46a82be5d1",
   "metadata": {},
   "outputs": [
    {
     "data": {
      "text/plain": [
       "'spamspamspam'"
      ]
     },
     "execution_count": 9,
     "metadata": {},
     "output_type": "execute_result"
    }
   ],
   "source": [
    "#7. What should the values of the following two terms be?\n",
    "'spam' + 'spamspam' #\"spamspamspam\"\n",
    "'spam' * 3 #\"spamspamspam\"\n"
   ]
  },
  {
   "cell_type": "code",
   "execution_count": null,
   "id": "a77414f7-4513-4e46-9156-b6a98a820967",
   "metadata": {},
   "outputs": [],
   "source": [
    "#8. Why is eggs a valid variable name while 100 is invalid?\n",
    "\"\"\"Beacuse a variable can starts with a alphabet not with a neumeric value. \"\"\""
   ]
  },
  {
   "cell_type": "code",
   "execution_count": null,
   "id": "9f432dcd-19a4-40c2-b02e-4d76d7df9204",
   "metadata": {},
   "outputs": [],
   "source": [
    "#9. What three functions can be used to get the integer, floating-point number, or string version of a value?\n",
    "\"int for integer\"\n",
    "\"float for floating\"\n",
    "\"str or \"\",'' for string\""
   ]
  },
  {
   "cell_type": "code",
   "execution_count": 6,
   "id": "a87ff994-1c8e-4677-b675-54603c112642",
   "metadata": {},
   "outputs": [
    {
     "ename": "TypeError",
     "evalue": "can only concatenate str (not \"int\") to str",
     "output_type": "error",
     "traceback": [
      "\u001b[0;31m---------------------------------------------------------------------------\u001b[0m",
      "\u001b[0;31mTypeError\u001b[0m                                 Traceback (most recent call last)",
      "Cell \u001b[0;32mIn [6], line 2\u001b[0m\n\u001b[1;32m      1\u001b[0m \u001b[38;5;66;03m#10. Why does this expression cause an error? How can you fix it?\u001b[39;00m\n\u001b[0;32m----> 2\u001b[0m \u001b[38;5;124;43m'\u001b[39;49m\u001b[38;5;124;43mI have eaten \u001b[39;49m\u001b[38;5;124;43m'\u001b[39;49m\u001b[43m \u001b[49m\u001b[38;5;241;43m+\u001b[39;49m\u001b[43m \u001b[49m\u001b[38;5;241;43m99\u001b[39;49m \u001b[38;5;241m+\u001b[39m \u001b[38;5;124m'\u001b[39m\u001b[38;5;124m burritos.\u001b[39m\u001b[38;5;124m'\u001b[39m \u001b[38;5;66;03m#Beacuse you have to concatenate with same data types. Here 99 is interger not a string.\u001b[39;00m\n\u001b[1;32m      3\u001b[0m \u001b[38;5;124m'\u001b[39m\u001b[38;5;124mI have eaten \u001b[39m\u001b[38;5;124m'\u001b[39m \u001b[38;5;241m+\u001b[39m \u001b[38;5;124m\"\u001b[39m\u001b[38;5;124m99\u001b[39m\u001b[38;5;124m\"\u001b[39m \u001b[38;5;241m+\u001b[39m \u001b[38;5;124m'\u001b[39m\u001b[38;5;124m burritos.\u001b[39m\u001b[38;5;124m'\u001b[39m\n",
      "\u001b[0;31mTypeError\u001b[0m: can only concatenate str (not \"int\") to str"
     ]
    }
   ],
   "source": [
    "#10. Why does this expression cause an error? How can you fix it?\n",
    "'I have eaten ' + 99 + ' burritos.' #Beacuse you have to concatenate with same data types. Here 99 is interger not a string.\n",
    "'I have eaten ' + \"99\" + ' burritos.' # Correct one."
   ]
  },
  {
   "cell_type": "code",
   "execution_count": null,
   "id": "bba8c5c7-cf78-44f7-a762-669f2ae2f78d",
   "metadata": {},
   "outputs": [],
   "source": []
  },
  {
   "cell_type": "code",
   "execution_count": null,
   "id": "670f0c67-c866-40e9-ba9c-f5b7b5d9ab10",
   "metadata": {},
   "outputs": [],
   "source": []
  },
  {
   "cell_type": "code",
   "execution_count": null,
   "id": "5edd0284-ed01-4930-ae69-6e77302a3cfe",
   "metadata": {},
   "outputs": [],
   "source": []
  },
  {
   "cell_type": "code",
   "execution_count": null,
   "id": "a037f2a7-5760-46ed-8a57-310842ea3fc7",
   "metadata": {},
   "outputs": [],
   "source": []
  },
  {
   "cell_type": "code",
   "execution_count": null,
   "id": "1d0e4e5d-6849-4098-aa16-a69e748ac041",
   "metadata": {},
   "outputs": [],
   "source": []
  }
 ],
 "metadata": {
  "kernelspec": {
   "display_name": "Python 3 (ipykernel)",
   "language": "python",
   "name": "python3"
  },
  "language_info": {
   "codemirror_mode": {
    "name": "ipython",
    "version": 3
   },
   "file_extension": ".py",
   "mimetype": "text/x-python",
   "name": "python",
   "nbconvert_exporter": "python",
   "pygments_lexer": "ipython3",
   "version": "3.10.6"
  }
 },
 "nbformat": 4,
 "nbformat_minor": 5
}
