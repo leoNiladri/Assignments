{
 "cells": [
  {
   "cell_type": "code",
   "execution_count": null,
   "id": "c6adde9a-8bad-424f-8d46-13e695390167",
   "metadata": {},
   "outputs": [],
   "source": [
    "#1. What are escape characters, and how do you use them?\n",
    "\"\"\"\n",
    "To insert characters that are illegal in a string, use an escape character.An escape character is a backslash \\ followed by the character you want to insert.\n",
    "Like- \"My name is \\\"niladri\\\" Biswas\"\n",
    "\"\"\""
   ]
  },
  {
   "cell_type": "code",
   "execution_count": null,
   "id": "ae00d58a-734a-42fc-9cd0-8b21ff893730",
   "metadata": {},
   "outputs": [],
   "source": [
    "#2. What do the escape characters n and t stand for?\n",
    "\"\"\"\n",
    "\\n- indicate to start from the new line.\n",
    "\\t- indicate to give a tab of space.\n",
    "\"\"\""
   ]
  },
  {
   "cell_type": "code",
   "execution_count": 2,
   "id": "e4ab0442-d43d-4957-bcfe-80a1581721b7",
   "metadata": {},
   "outputs": [
    {
     "name": "stdout",
     "output_type": "stream",
     "text": [
      "its a back slash \\ in the sentence\n"
     ]
    }
   ],
   "source": [
    "#3. What is the way to include backslash characters in a string?\n",
    "print(\"its a back slash \\ in the sentence\")"
   ]
  },
  {
   "cell_type": "code",
   "execution_count": null,
   "id": "aedcc70d-be6e-4d5d-a232-af5150ee8903",
   "metadata": {},
   "outputs": [],
   "source": [
    "#4. The string \"Howl's Moving Castle\" is a correct value. Why isn't the single quote character in the word Howl's not escaped a problem?\n",
    "\"\"\"\n",
    "Beacuse here we use double quotes \"\" to represents the the string thats why it is not give us an error. \n",
    "\"\"\""
   ]
  },
  {
   "cell_type": "code",
   "execution_count": null,
   "id": "eee5cf09-2a85-4ee0-8473-c35045e75776",
   "metadata": {},
   "outputs": [],
   "source": [
    "#5. How do you write a string of newlines if you don't want to use the n character?\n",
    "\"\"\"\n",
    "we can write a string of newlines like this- \n",
    "\"\"\"\n",
    "\"\"\"\n",
    "Hi\n",
    "my name\n",
    "is\n",
    "niladri\n",
    "biswas\n",
    "\"\"\""
   ]
  },
  {
   "cell_type": "code",
   "execution_count": null,
   "id": "3cf88b1a-8864-47d5-a380-7643b6498334",
   "metadata": {},
   "outputs": [],
   "source": [
    "#6. What are the values of the given expressions?\n",
    "#'Hello, world!'[1]\n",
    "\"\"\"\n",
    "The output is \"e\"\n",
    "\"\"\""
   ]
  },
  {
   "cell_type": "code",
   "execution_count": null,
   "id": "dd12c524-de17-4c78-8c66-28a1d10fa9d5",
   "metadata": {},
   "outputs": [],
   "source": [
    "#'Hello, world!'[0:5]\n",
    "\"\"\"\n",
    "The output is \"Hello,\"\n",
    "\"\"\""
   ]
  },
  {
   "cell_type": "code",
   "execution_count": null,
   "id": "01428156-18de-4bbe-8d8c-00e2e16c8d79",
   "metadata": {},
   "outputs": [],
   "source": [
    "#'Hello, world!'[:5]\n",
    "\"\"\"\n",
    "The output is \"Hello,\"\n",
    "\"\"\""
   ]
  },
  {
   "cell_type": "code",
   "execution_count": null,
   "id": "f9c015ea-cb1e-4cec-bc06-cb479f8e7467",
   "metadata": {},
   "outputs": [],
   "source": [
    "#'Hello, world!'[3:]\n",
    "\"\"\"\n",
    "The output is \"lo, world!\"\n",
    "\"\"\""
   ]
  },
  {
   "cell_type": "code",
   "execution_count": null,
   "id": "73f58cff-16bd-44b7-b801-5ebea43e4e19",
   "metadata": {},
   "outputs": [],
   "source": [
    "#7. What are the values of the following expressions?\n",
    "#'Hello'.upper()\n",
    "\"\"\"\n",
    "HELLO\n",
    "\"\"\""
   ]
  },
  {
   "cell_type": "code",
   "execution_count": 4,
   "id": "84b52596-3267-475b-ac79-27a7ae40669c",
   "metadata": {},
   "outputs": [
    {
     "data": {
      "text/plain": [
       "'\\nTrue\\n'"
      ]
     },
     "execution_count": 4,
     "metadata": {},
     "output_type": "execute_result"
    }
   ],
   "source": [
    "#'Hello'.upper().isupper()\n",
    "\"\"\"\n",
    "True\n",
    "\"\"\""
   ]
  },
  {
   "cell_type": "code",
   "execution_count": null,
   "id": "4bbb4071-9d66-419a-abff-6f37ac09bccb",
   "metadata": {},
   "outputs": [],
   "source": [
    "#'Hello'.upper().lower()\n",
    "\"\"\"\n",
    "hello\n",
    "\"\"\""
   ]
  },
  {
   "cell_type": "code",
   "execution_count": null,
   "id": "0a893472-72b1-49f3-968e-68da01560570",
   "metadata": {},
   "outputs": [],
   "source": [
    "#8. What are the values of the following expressions?\n",
    "#'Remember, remember, the fifth of July.'.split()\n",
    "\"\"\"\n",
    "['Remember,', 'remember,', 'the', 'fifth', 'of', 'July.']\n",
    "\"\"\""
   ]
  },
  {
   "cell_type": "code",
   "execution_count": 8,
   "id": "3ef46e15-343f-4a1d-9d28-ec32a6dc8cb5",
   "metadata": {},
   "outputs": [
    {
     "data": {
      "text/plain": [
       "\"\\n'There-can-only-one.'\\n\""
      ]
     },
     "execution_count": 8,
     "metadata": {},
     "output_type": "execute_result"
    }
   ],
   "source": [
    "#'-'.join('There can only one.'.split())\n",
    "\"\"\"\n",
    "'There-can-only-one.'\n",
    "\"\"\""
   ]
  },
  {
   "cell_type": "code",
   "execution_count": null,
   "id": "bb23b33b-0312-40df-8273-6c7b554e62d1",
   "metadata": {},
   "outputs": [],
   "source": [
    "#9. What are the methods for right-justifying, left-justifying, and centering a string?\n",
    "\"\"\"\n",
    "for left-justifying- str.ljust(s, width[, fillchar])\n",
    "for right-justifying- str.rjust(s, width[, fillchar])\n",
    "for center-justifying- str.center(s, width[, fillchar])\n",
    "\"\"\"\n"
   ]
  },
  {
   "cell_type": "code",
   "execution_count": null,
   "id": "73f771c4-84bb-4de0-b2cc-dec0edaaa5a1",
   "metadata": {},
   "outputs": [],
   "source": [
    "#10. What is the best way to remove whitespace characters from the start or end?\n",
    "\"\"\"\n",
    "The best way to remove whitespace characters from the string is .strip() method.\n",
    "\n",
    "For the start whitespace  we use .lstrip().\n",
    "\n",
    "For the end whitespace  we use .rstrip()\n",
    "\"\"\""
   ]
  },
  {
   "cell_type": "code",
   "execution_count": null,
   "id": "9153355a-495d-45c7-a7ab-a689f45ec127",
   "metadata": {},
   "outputs": [],
   "source": []
  },
  {
   "cell_type": "code",
   "execution_count": null,
   "id": "31b5f4ea-1ce3-42fd-aca0-c55d4c9c167c",
   "metadata": {},
   "outputs": [],
   "source": []
  },
  {
   "cell_type": "code",
   "execution_count": null,
   "id": "c9c60a7e-d3f5-4234-a697-a6b98838b98c",
   "metadata": {},
   "outputs": [],
   "source": []
  }
 ],
 "metadata": {
  "kernelspec": {
   "display_name": "Python 3 (ipykernel)",
   "language": "python",
   "name": "python3"
  },
  "language_info": {
   "codemirror_mode": {
    "name": "ipython",
    "version": 3
   },
   "file_extension": ".py",
   "mimetype": "text/x-python",
   "name": "python",
   "nbconvert_exporter": "python",
   "pygments_lexer": "ipython3",
   "version": "3.10.6"
  }
 },
 "nbformat": 4,
 "nbformat_minor": 5
}
