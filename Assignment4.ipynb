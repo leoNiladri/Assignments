{
 "cells": [
  {
   "cell_type": "code",
   "execution_count": null,
   "id": "66ba5a68-c9a7-42c5-902d-5f98e0cabb2f",
   "metadata": {},
   "outputs": [],
   "source": [
    "#1. What exactly is []?\n",
    "\"\"\"\n",
    "[]- this two square parentheses represents the empty list.\n",
    "\"\"\""
   ]
  },
  {
   "cell_type": "code",
   "execution_count": 1,
   "id": "4cd11930-bb4c-4acf-8660-d1e21a5d27f0",
   "metadata": {},
   "outputs": [
    {
     "data": {
      "text/plain": [
       "[2, 4, 'hello', 6, 8, 10]"
      ]
     },
     "execution_count": 1,
     "metadata": {},
     "output_type": "execute_result"
    }
   ],
   "source": [
    "#2. In a list of values stored in a variable called spam, how would you assign the value 'hello' as the third value?\n",
    "#(Assume [2, 4, 6, 8, 10] are in spam.)\n",
    "spam=[2,4,6,8,10]\n",
    "spam.insert(2,\"hello\")\n",
    "spam\n"
   ]
  },
  {
   "cell_type": "code",
   "execution_count": 2,
   "id": "34b711e1-889e-44f7-95d2-b23a14c87247",
   "metadata": {},
   "outputs": [],
   "source": [
    "#Let's pretend the spam includes the list ['a', 'b', 'c', 'd'] for the next three queries.\n",
    "spam=[\"a\",\"b\",\"c\",\"d\"]"
   ]
  },
  {
   "cell_type": "code",
   "execution_count": 7,
   "id": "6b5a8bd6-4717-4dbc-9d70-5bddff73e42a",
   "metadata": {},
   "outputs": [
    {
     "data": {
      "text/plain": [
       "'d'"
      ]
     },
     "execution_count": 7,
     "metadata": {},
     "output_type": "execute_result"
    }
   ],
   "source": [
    "#3. What is the value of spam[int(int('3' * 2) / 11)]?\n",
    "\"\"\"\n",
    "The value is 'd'\n",
    "\"\"\"\n",
    "spam[int(int('3' * 2) / 11)]"
   ]
  },
  {
   "cell_type": "code",
   "execution_count": null,
   "id": "b629039d-8283-4996-aa62-bfb0be3c8000",
   "metadata": {},
   "outputs": [],
   "source": [
    "#4. What is the value of spam[-1]?\n",
    "\"\"\"\n",
    "The value is 'd'\n",
    "\"\"\""
   ]
  },
  {
   "cell_type": "code",
   "execution_count": 9,
   "id": "b0dde2c4-8837-4e06-8db6-5ff3f9a90904",
   "metadata": {},
   "outputs": [
    {
     "data": {
      "text/plain": [
       "['a', 'b']"
      ]
     },
     "execution_count": 9,
     "metadata": {},
     "output_type": "execute_result"
    }
   ],
   "source": [
    "#5. What is the value of spam[:2]?\n",
    "\"\"\"\n",
    "The value is 'a','b'\n",
    "\"\"\"\n",
    "spam[:2]"
   ]
  },
  {
   "cell_type": "code",
   "execution_count": 13,
   "id": "32c53375-2636-4231-8e5d-68391d8de806",
   "metadata": {},
   "outputs": [],
   "source": [
    "#Let's pretend bacon has the list [3.14, 'cat,' 11, 'cat,' True] for the next three questions.\n",
    "bacon=[3.14, 'cat', 11, 'cat', True]"
   ]
  },
  {
   "cell_type": "code",
   "execution_count": 15,
   "id": "35798efb-00a2-4e4c-9f4c-48c613272108",
   "metadata": {},
   "outputs": [
    {
     "data": {
      "text/plain": [
       "\"\\nThe bacon.index('cat') is 1\\n\""
      ]
     },
     "execution_count": 15,
     "metadata": {},
     "output_type": "execute_result"
    }
   ],
   "source": [
    "#6. What is the value of bacon.index('cat')?\n",
    "\"\"\"\n",
    "The bacon.index('cat') is 1\n",
    "\"\"\""
   ]
  },
  {
   "cell_type": "code",
   "execution_count": 21,
   "id": "8b7f7f6f-11cb-4029-8009-e1da8c6f90f1",
   "metadata": {},
   "outputs": [
    {
     "data": {
      "text/plain": [
       "[3.14, 'cat', 11, 'cat', True, 99]"
      ]
     },
     "execution_count": 21,
     "metadata": {},
     "output_type": "execute_result"
    }
   ],
   "source": [
    "#7. How does bacon.append(99) change the look of the list value in bacon?\n",
    "bacon.append(99)\n",
    "bacon\n",
    "\"\"\"\n",
    "The list look like- [3.14, 'cat', 11, 'cat', True, 99]\n",
    "\"\"\""
   ]
  },
  {
   "cell_type": "code",
   "execution_count": 22,
   "id": "6fce5dd1-bc74-4ee6-8e74-c43a3e8701d2",
   "metadata": {},
   "outputs": [
    {
     "data": {
      "text/plain": [
       "\"\\nThe list look like- [3.14, 11, 'cat', True, 99]\\n\""
      ]
     },
     "execution_count": 22,
     "metadata": {},
     "output_type": "execute_result"
    }
   ],
   "source": [
    "#8. How does bacon.remove('cat') change the look of the list in bacon?\n",
    "bacon.remove(\"cat\")\n",
    "\"\"\"\n",
    "The list look like- [3.14, 11, 'cat', True, 99]\n",
    "\"\"\""
   ]
  },
  {
   "cell_type": "code",
   "execution_count": 25,
   "id": "f0926d47-6ede-4bfd-aa04-0709feab5e7f",
   "metadata": {},
   "outputs": [
    {
     "data": {
      "text/plain": [
       "'\\nThe list concatenation operators is \"+\" and replication operators is \"*\"\\n'"
      ]
     },
     "execution_count": 25,
     "metadata": {},
     "output_type": "execute_result"
    }
   ],
   "source": [
    "#9. What are the list concatenation and list replication operators?\n",
    "\"\"\"\n",
    "The list concatenation operators is \"+\" and replication operators is \"*\"\n",
    "\"\"\""
   ]
  },
  {
   "cell_type": "code",
   "execution_count": null,
   "id": "bb588942-ef4e-46c4-8829-0757d9277b8f",
   "metadata": {},
   "outputs": [],
   "source": [
    "#10. What is difference between the list methods append() and insert()?\n",
    "\"\"\"\n",
    "The main difference between append() and insert() is - appens() add the value at the end of the list, and insert() can add the value whatever\n",
    "place you want.\n",
    "\"\"\""
   ]
  },
  {
   "cell_type": "code",
   "execution_count": null,
   "id": "ecdd53aa-72af-4c6d-b272-f6568e6bd47b",
   "metadata": {},
   "outputs": [],
   "source": [
    "#11. What are the two methods for removing items from a list?\n",
    "\"\"\"\n",
    "remove()\n",
    "pop()\n",
    "\"\"\""
   ]
  },
  {
   "cell_type": "code",
   "execution_count": null,
   "id": "73258dba-ab54-47ed-be47-90f32eb6e3a8",
   "metadata": {},
   "outputs": [],
   "source": [
    "#12. Describe how list values and string values are identical.\n",
    "\"\"\"\n",
    "List and string both are used to store value or data and both are sequence.\n",
    "\"\"\""
   ]
  },
  {
   "cell_type": "code",
   "execution_count": null,
   "id": "5a910863-d58a-4665-bb89-ce4c65f0b20c",
   "metadata": {},
   "outputs": [],
   "source": [
    "#13. What's the difference between tuples and lists?\n",
    "\"\"\"\n",
    "The difference between tuples and lists is -\n",
    "lists are mutable and write with the help of []\n",
    "And tuples are unmutable and write with the help of ()\n",
    "\"\"\""
   ]
  },
  {
   "cell_type": "code",
   "execution_count": 42,
   "id": "b1727cf9-f4fd-4931-8900-acc42efbc427",
   "metadata": {},
   "outputs": [],
   "source": [
    "#14. How do you type a tuple value that only contains the integer 42?\n",
    "a=(42,)\n"
   ]
  },
  {
   "cell_type": "code",
   "execution_count": 40,
   "id": "e160c184-0bf5-4d69-ad64-dfca571289e0",
   "metadata": {},
   "outputs": [
    {
     "name": "stdout",
     "output_type": "stream",
     "text": [
      "(1, 2, 3, 4, 5)\n"
     ]
    }
   ],
   "source": [
    "#15. How do you get a list value's tuple form? How do you get a tuple value's list form?\n",
    "a=[1,2,3,4,5]\n",
    "def convert(l):\n",
    "    return tuple(l)\n",
    "print(convert(a))    \n",
    "\n",
    "\n"
   ]
  },
  {
   "cell_type": "code",
   "execution_count": 41,
   "id": "3576a571-ac3c-4667-b2df-a35aeb4cc6af",
   "metadata": {},
   "outputs": [
    {
     "name": "stdout",
     "output_type": "stream",
     "text": [
      "[1, 2, 3, 4, 5]\n"
     ]
    }
   ],
   "source": [
    "c=(1,2,3,4,5)\n",
    "def convert(l):\n",
    "    return list(l)\n",
    "print(convert(c)) \n"
   ]
  },
  {
   "cell_type": "code",
   "execution_count": null,
   "id": "71d59655-6941-4e8b-b5a8-378a51de068b",
   "metadata": {},
   "outputs": [],
   "source": [
    "#16. Variables that \"contain\" list values are not necessarily lists themselves. Instead, what do they contain?\n",
    "\"\"\"They contain references to list values\"\"\""
   ]
  },
  {
   "cell_type": "code",
   "execution_count": null,
   "id": "a4b15e1b-529c-4616-a56d-2c870835cea3",
   "metadata": {},
   "outputs": [],
   "source": [
    "#17. How do you distinguish between copy.copy() and copy.deepcopy()?\n",
    "\"\"\"\n",
    "The copy.copy() function will do a shallow copy of a list, \n",
    "The copy.deepcopy() function will do a deep copy of a list. only copy.deepcopy() will duplicate any lists inside the \n",
    "list\n",
    "\"\"\""
   ]
  },
  {
   "cell_type": "code",
   "execution_count": null,
   "id": "6b6c39f3-3fae-4ea5-99b1-4ee05fb39c0a",
   "metadata": {},
   "outputs": [],
   "source": []
  },
  {
   "cell_type": "code",
   "execution_count": null,
   "id": "3794f95c-03f7-460e-b3c6-b0fc99775bb5",
   "metadata": {},
   "outputs": [],
   "source": []
  },
  {
   "cell_type": "code",
   "execution_count": null,
   "id": "00579594-bfd9-45a5-8492-02362c05d1d8",
   "metadata": {},
   "outputs": [],
   "source": []
  }
 ],
 "metadata": {
  "kernelspec": {
   "display_name": "Python 3 (ipykernel)",
   "language": "python",
   "name": "python3"
  },
  "language_info": {
   "codemirror_mode": {
    "name": "ipython",
    "version": 3
   },
   "file_extension": ".py",
   "mimetype": "text/x-python",
   "name": "python",
   "nbconvert_exporter": "python",
   "pygments_lexer": "ipython3",
   "version": "3.10.6"
  }
 },
 "nbformat": 4,
 "nbformat_minor": 5
}
