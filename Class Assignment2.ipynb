{
 "cells": [
  {
   "cell_type": "code",
   "execution_count": 2,
   "id": "e273734a-4e42-4291-a4ac-26bc36e0375a",
   "metadata": {},
   "outputs": [
    {
     "data": {
      "text/plain": [
       "3"
      ]
     },
     "execution_count": 2,
     "metadata": {},
     "output_type": "execute_result"
    }
   ],
   "source": [
    "#Question 1\n",
    "text = \"Welcome to iNeuron, You are a part of FSDS Bootcamp 2 in iNeuron. I hope you are enjoying the course by iNeuron\"\n",
    "text.count(\"iNeuron\")"
   ]
  },
  {
   "cell_type": "code",
   "execution_count": 4,
   "id": "b58f55c3-1754-4d20-b46f-ceb0265064c2",
   "metadata": {},
   "outputs": [
    {
     "data": {
      "text/plain": [
       "False"
      ]
     },
     "execution_count": 4,
     "metadata": {},
     "output_type": "execute_result"
    }
   ],
   "source": [
    "#Question 2\n",
    "txt = \"Hello, welcome to FSDS 2.0 at iNeuron.\"\n",
    "text[5:11].endswith(\"iNeuron\")\n"
   ]
  },
  {
   "cell_type": "code",
   "execution_count": 5,
   "id": "8deff3c4-a2bb-4318-adf1-a43b89308390",
   "metadata": {},
   "outputs": [
    {
     "name": "stdin",
     "output_type": "stream",
     "text": [
      "Enter your name : Niladri Trisha Paul\n"
     ]
    },
    {
     "name": "stdout",
     "output_type": "stream",
     "text": [
      "Your name is N.T.Paul\n"
     ]
    }
   ],
   "source": [
    "#Question 3\n",
    "name=input(\"Enter your name :\")\n",
    "name=name.split(\" \")\n",
    "first_name=name[0]\n",
    "middle_name=name[1]\n",
    "last_name=name[2]\n",
    "print(f\"Your name is {first_name[0]}.{middle_name[0]}.{last_name}\")"
   ]
  },
  {
   "cell_type": "code",
   "execution_count": 27,
   "id": "8e9a40a8-b608-4290-88ed-e1a2f5b337fe",
   "metadata": {},
   "outputs": [
    {
     "data": {
      "text/plain": [
       "'My#name#is#Rishav#Dash'"
      ]
     },
     "execution_count": 27,
     "metadata": {},
     "output_type": "execute_result"
    }
   ],
   "source": [
    "#Question 4\n",
    "LIST = [\"My\", \"name\", \"is\", \"Rishav\", \"Dash\"]\n",
    "\"#\".join(LIST)"
   ]
  },
  {
   "cell_type": "code",
   "execution_count": 24,
   "id": "142f35a8-d5a6-4360-a2c0-3c568d2248cc",
   "metadata": {},
   "outputs": [
    {
     "name": "stdout",
     "output_type": "stream",
     "text": [
      "False\n",
      "True\n"
     ]
    }
   ],
   "source": [
    "#Question 5\n",
    "num=\"2.0\"\n",
    "num1=\"2\"\n",
    "print(num.isdecimal())\n",
    "print(num1.isdecimal())"
   ]
  },
  {
   "cell_type": "code",
   "execution_count": 12,
   "id": "cdfbcb45-5603-4fea-9157-4be6b897f11e",
   "metadata": {},
   "outputs": [
    {
     "name": "stdout",
     "output_type": "stream",
     "text": [
      "True\n",
      "False\n"
     ]
    }
   ],
   "source": [
    "name=\"niladri\"\n",
    "print(name.islower())\n",
    "name1=\"Niladri\"\n",
    "print(name1.islower())"
   ]
  },
  {
   "cell_type": "code",
   "execution_count": 15,
   "id": "dff7864e-5441-4756-9d0d-24e830a9a7b1",
   "metadata": {},
   "outputs": [
    {
     "name": "stdout",
     "output_type": "stream",
     "text": [
      "False\n",
      "True\n"
     ]
    }
   ],
   "source": [
    "name=\"niladri\"\n",
    "print(name.isupper())\n",
    "name1=\"NILADRI\"\n",
    "print(name1.isupper())"
   ]
  },
  {
   "cell_type": "code",
   "execution_count": 16,
   "id": "0b547f42-c4fe-4b92-b473-d0518d483cff",
   "metadata": {},
   "outputs": [
    {
     "name": "stdout",
     "output_type": "stream",
     "text": [
      "True\n",
      "False\n"
     ]
    }
   ],
   "source": [
    "name=\"niladri\"\n",
    "print(name.isalpha())\n",
    "name1=\"NILADRI58647952\"\n",
    "print(name1.isalpha())"
   ]
  },
  {
   "cell_type": "code",
   "execution_count": 18,
   "id": "fca4d97a-3e98-4ec3-bf4e-a462869379ed",
   "metadata": {},
   "outputs": [
    {
     "name": "stdout",
     "output_type": "stream",
     "text": [
      "True\n",
      "False\n"
     ]
    }
   ],
   "source": [
    "name=\"554543455\"\n",
    "print(name.isnumeric())\n",
    "name1=\"NILADRI58647952\"\n",
    "print(name1.isnumeric())"
   ]
  },
  {
   "cell_type": "code",
   "execution_count": 26,
   "id": "db67d5ad-f099-4716-a559-25ad24220a92",
   "metadata": {},
   "outputs": [
    {
     "name": "stdin",
     "output_type": "stream",
     "text": [
      "Enter your pan number : ABCDE9999Y\n"
     ]
    },
    {
     "name": "stdout",
     "output_type": "stream",
     "text": [
      "User give a correct input.\n",
      "    Your pan number is ABCDE9999Y\n"
     ]
    }
   ],
   "source": [
    "#Question 6\n",
    "pan_num=input(\"Enter your pan number :\")\n",
    "#print(f\"Your name is {name}\")\n",
    "if  pan_num[5:9].isdigit() and len(pan_num)==10 and pan_num[:5].isalpha() and pan_num[-1].isalpha() :\n",
    "    print(f\"\"\"User give a correct input.\n",
    "    Your pan number is {pan_num}\"\"\")\n",
    "elif pan_num.isspace():\n",
    "    print(\"Wrong Input.Please try againg.\")\n",
    "else:\n",
    "     print(\"Wrong Input.Please try againg.\")"
   ]
  },
  {
   "cell_type": "code",
   "execution_count": null,
   "id": "5cafad57-3ba9-46f1-b472-f5c043dcb17b",
   "metadata": {},
   "outputs": [],
   "source": []
  },
  {
   "cell_type": "code",
   "execution_count": null,
   "id": "127a1e86-c1ea-4ddf-aa48-d9684b540794",
   "metadata": {},
   "outputs": [],
   "source": []
  },
  {
   "cell_type": "code",
   "execution_count": null,
   "id": "ecb8eeda-1468-4551-9cc2-7b323440ff8e",
   "metadata": {},
   "outputs": [],
   "source": []
  },
  {
   "cell_type": "code",
   "execution_count": null,
   "id": "6a463484-9d2c-4814-b50a-59e4251f28f4",
   "metadata": {},
   "outputs": [],
   "source": []
  },
  {
   "cell_type": "code",
   "execution_count": null,
   "id": "e1b3e2a7-b7ed-4a81-80f8-662b7ae4036a",
   "metadata": {},
   "outputs": [],
   "source": []
  },
  {
   "cell_type": "code",
   "execution_count": null,
   "id": "f71694d8-9d91-498b-ba68-ac65deb10869",
   "metadata": {},
   "outputs": [],
   "source": []
  },
  {
   "cell_type": "code",
   "execution_count": null,
   "id": "117bb717-2559-4151-b8df-868a4f3bc001",
   "metadata": {},
   "outputs": [],
   "source": []
  },
  {
   "cell_type": "code",
   "execution_count": null,
   "id": "6ad6a3ae-91d4-49e5-b826-97964e6612f4",
   "metadata": {},
   "outputs": [],
   "source": []
  },
  {
   "cell_type": "code",
   "execution_count": null,
   "id": "cfaee062-aba7-49ee-a414-22a72e8d1c14",
   "metadata": {},
   "outputs": [],
   "source": []
  },
  {
   "cell_type": "code",
   "execution_count": null,
   "id": "b25b82e1-3b60-4856-bb76-54634448f5e4",
   "metadata": {},
   "outputs": [],
   "source": []
  },
  {
   "cell_type": "code",
   "execution_count": null,
   "id": "523e2366-4059-4dc1-85c6-45445083bcdc",
   "metadata": {},
   "outputs": [],
   "source": []
  },
  {
   "cell_type": "code",
   "execution_count": null,
   "id": "a2dfb605-4c72-4cd6-ae4b-7dd35b70ed05",
   "metadata": {},
   "outputs": [],
   "source": []
  }
 ],
 "metadata": {
  "kernelspec": {
   "display_name": "Python 3 (ipykernel)",
   "language": "python",
   "name": "python3"
  },
  "language_info": {
   "codemirror_mode": {
    "name": "ipython",
    "version": 3
   },
   "file_extension": ".py",
   "mimetype": "text/x-python",
   "name": "python",
   "nbconvert_exporter": "python",
   "pygments_lexer": "ipython3",
   "version": "3.10.6"
  }
 },
 "nbformat": 4,
 "nbformat_minor": 5
}
