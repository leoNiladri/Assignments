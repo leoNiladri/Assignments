{
 "cells": [
  {
   "cell_type": "code",
   "execution_count": null,
   "id": "b2db735f-71e4-4d9f-ab59-607efe4911f4",
   "metadata": {},
   "outputs": [],
   "source": [
    "#1.What are the two values of the Boolean data type? How do you write them?\n",
    "\"\"\"\n",
    "The Boolen data types are True and False.\n",
    "We can wrote the values like False=0 and True=1\n",
    "\"\"\""
   ]
  },
  {
   "cell_type": "code",
   "execution_count": null,
   "id": "dcf5b784-b2a7-4abf-89f7-e4cb776614ab",
   "metadata": {},
   "outputs": [],
   "source": [
    "#2. What are the three different types of Boolean operators?\n",
    "\"\"\"\n",
    "1. Comparison Operators.\n",
    "2. Binary Boolean Operators.\n",
    "3. Not Operator\n",
    "\"\"\""
   ]
  },
  {
   "cell_type": "code",
   "execution_count": null,
   "id": "9873082e-35ed-4ad7-80dd-c4d2c8194f74",
   "metadata": {},
   "outputs": [],
   "source": [
    "#3. Make a list of each Boolean operator's truth tables (i.e. every possible combination of Boolean values for the operator and what it evaluate ).\n",
    "\"\"\"\n",
    "The three logic gates are AND,OR,NOT\n",
    "\n",
    "\"AND\" logic gate table:\n",
    "Input A  | Input B | Output\n",
    "````````````````````````````\n",
    "    0    |    0    | 0\n",
    "    1    |    0    | 0\n",
    "    0    |    1    | 0\n",
    "    1    |    1    | 1\n",
    "\n",
    "\"OR\" logic gate table:\n",
    "Input A  | Input B | Output\n",
    "````````````````````````````\n",
    "    0    |    0    | 0\n",
    "    1    |    0    | 1\n",
    "    0    |    1    | 1\n",
    "    1    |    1    | 1\n",
    "    \n",
    "\"NOT\" logic gate table:\n",
    "Input A  | Output\n",
    "``````````````````\n",
    "    0    |    1 \n",
    "    1    |    0\n",
    "\"\"\"\n"
   ]
  },
  {
   "cell_type": "code",
   "execution_count": null,
   "id": "8f13fb3f-bfb6-4b29-862b-f91564bb9793",
   "metadata": {},
   "outputs": [],
   "source": [
    "#4. What are the values of the following expressions?\n",
    "(5 > 4) and (3 == 5) #False\n",
    "not (5 > 4) #False\n",
    "(5 > 4) or (3 == 5) #True\n",
    "not ((5 > 4) or (3 == 5)) #False\n",
    "(True and True) and (True == False) #False\n",
    "(not False) or (not True) #True\n"
   ]
  },
  {
   "cell_type": "code",
   "execution_count": null,
   "id": "d244f724-7aa6-4291-8737-2a5dc6314023",
   "metadata": {},
   "outputs": [],
   "source": [
    "#5. What are the six comparison operators?\n",
    "\"\"\"\n",
    "1. > ,greaterthan\n",
    "2. < ,lessthan\n",
    "3. >= ,greaterthan equal to\n",
    "4. <= ,lessthan equal to\n",
    "5. == ,euals to\n",
    "6. != or <> ,not equals to\n",
    "\"\"\""
   ]
  },
  {
   "cell_type": "code",
   "execution_count": 28,
   "id": "2b238b9f-29d3-4517-b3e9-8b64cad71796",
   "metadata": {},
   "outputs": [
    {
     "name": "stdout",
     "output_type": "stream",
     "text": [
      "10\n",
      "True\n"
     ]
    }
   ],
   "source": [
    "#6. How do you tell the difference between the equal to and assignment operators?Describe a condition and when you would use one.\n",
    "\"\"\"\n",
    "Assingment operators is use for assing the value.For asing value we use single = . Like- A=10\n",
    "And equal to operators is use for compare the value with another value.For compare the value we use == . Like- A==10\n",
    "\"\"\"\n",
    "#ex-\n",
    "A=10\n",
    "print(A)\n",
    "\n",
    "print(A==10)\n"
   ]
  },
  {
   "cell_type": "code",
   "execution_count": 26,
   "id": "e8ab662f-7416-4a08-81e3-854768f0d3cb",
   "metadata": {},
   "outputs": [
    {
     "name": "stdin",
     "output_type": "stream",
     "text": [
      "Enter a number :  6\n"
     ]
    },
    {
     "name": "stdout",
     "output_type": "stream",
     "text": [
      "bacon\n"
     ]
    }
   ],
   "source": [
    "#7. Identify the three blocks in this code:\n",
    "spam = eval(input(\"Enter a number : \"))\n",
    "if spam == 10:    #1st block\n",
    "    print('eggs')\n",
    "elif spam > 5:  #2d block\n",
    "    print('bacon')\n",
    "else:         #3rd block  \n",
    "    print('ham')        \n",
    "    print('spam')\n",
    "    print('spam')\n",
    "\n",
    "    "
   ]
  },
  {
   "cell_type": "code",
   "execution_count": 24,
   "id": "2efe2784-ce9a-4cc2-ae40-d6bcfb8b8a12",
   "metadata": {},
   "outputs": [
    {
     "name": "stdin",
     "output_type": "stream",
     "text": [
      "Enter a number :  12\n"
     ]
    },
    {
     "name": "stdout",
     "output_type": "stream",
     "text": [
      "Greetings\n"
     ]
    }
   ],
   "source": [
    "#8. Write code that prints Hello if 1 is stored in spam, prints Howdy if 2 is stored in spam, and prints Greetings! if anything else is stored in spam.\n",
    "spam=eval(input(\"Enter a number : \"))\n",
    "if spam==1:\n",
    "    print(\"Hello\")\n",
    "elif spam==2:\n",
    "    print(\"Howdly\")\n",
    "else:\n",
    "    print(\"Greetings\")\n",
    "\n"
   ]
  },
  {
   "cell_type": "code",
   "execution_count": null,
   "id": "1c9b9068-a93e-4029-bcf2-54a2065587e0",
   "metadata": {},
   "outputs": [],
   "source": []
  },
  {
   "cell_type": "code",
   "execution_count": null,
   "id": "121e4fa5-dc86-4048-b8a3-6b695063097e",
   "metadata": {},
   "outputs": [],
   "source": []
  },
  {
   "cell_type": "code",
   "execution_count": null,
   "id": "3d04fc62-84b5-435a-ba37-d976fe06fab8",
   "metadata": {},
   "outputs": [],
   "source": []
  },
  {
   "cell_type": "code",
   "execution_count": null,
   "id": "5042c5fa-fb87-40cb-b799-42fc8a87b9f8",
   "metadata": {},
   "outputs": [],
   "source": []
  },
  {
   "cell_type": "code",
   "execution_count": null,
   "id": "182940a7-b736-42d3-b385-e1e99fe477ce",
   "metadata": {},
   "outputs": [],
   "source": []
  },
  {
   "cell_type": "code",
   "execution_count": null,
   "id": "bcafa643-61bd-42d8-b3a1-5bc6cee0adc5",
   "metadata": {},
   "outputs": [],
   "source": []
  },
  {
   "cell_type": "code",
   "execution_count": null,
   "id": "a58a5fa1-d3fa-4c47-afde-d48f789a5836",
   "metadata": {},
   "outputs": [],
   "source": []
  },
  {
   "cell_type": "code",
   "execution_count": null,
   "id": "e96f11cb-ded7-4c30-8acb-d4cab2cad00a",
   "metadata": {},
   "outputs": [],
   "source": []
  },
  {
   "cell_type": "code",
   "execution_count": null,
   "id": "dcbfdf43-0d99-44cf-a33b-4f903894f8f1",
   "metadata": {},
   "outputs": [],
   "source": []
  },
  {
   "cell_type": "code",
   "execution_count": null,
   "id": "aaeaf674-25fd-4826-9eb1-abc80857eb6a",
   "metadata": {},
   "outputs": [],
   "source": []
  },
  {
   "cell_type": "code",
   "execution_count": null,
   "id": "0cdddf4c-03a2-4d8c-b973-f4f134b9893d",
   "metadata": {},
   "outputs": [],
   "source": []
  },
  {
   "cell_type": "code",
   "execution_count": null,
   "id": "2cf5d919-d7fb-44ed-a00b-372c03aacb07",
   "metadata": {},
   "outputs": [],
   "source": []
  },
  {
   "cell_type": "code",
   "execution_count": null,
   "id": "7a8e78c1-bbe6-4c53-b019-8ad5de1d1f96",
   "metadata": {},
   "outputs": [],
   "source": []
  },
  {
   "cell_type": "code",
   "execution_count": null,
   "id": "e0113eae-6b32-45a0-9cd6-f0dcf264e545",
   "metadata": {},
   "outputs": [],
   "source": []
  },
  {
   "cell_type": "code",
   "execution_count": null,
   "id": "435af4e4-4929-4aae-869a-77930e0656ca",
   "metadata": {},
   "outputs": [],
   "source": []
  },
  {
   "cell_type": "code",
   "execution_count": null,
   "id": "e8538ed7-63e8-4563-9db0-bec132716532",
   "metadata": {},
   "outputs": [],
   "source": []
  },
  {
   "cell_type": "code",
   "execution_count": null,
   "id": "42cba449-e986-4248-a5af-623d8b2758ca",
   "metadata": {},
   "outputs": [],
   "source": []
  },
  {
   "cell_type": "code",
   "execution_count": null,
   "id": "d32ff2ce-a9d3-4016-bf28-72ade27990e3",
   "metadata": {},
   "outputs": [],
   "source": []
  },
  {
   "cell_type": "code",
   "execution_count": null,
   "id": "aaab4caa-e73d-453e-b455-9c580fd68e14",
   "metadata": {},
   "outputs": [],
   "source": []
  },
  {
   "cell_type": "code",
   "execution_count": null,
   "id": "b892f940-40e4-42b5-a280-55fe5428e073",
   "metadata": {},
   "outputs": [],
   "source": []
  },
  {
   "cell_type": "code",
   "execution_count": null,
   "id": "67eb3f57-4760-473c-a610-48f4f2a09560",
   "metadata": {},
   "outputs": [],
   "source": []
  },
  {
   "cell_type": "code",
   "execution_count": null,
   "id": "97f5ae21-c531-43db-92d1-5b4fd4b0f27c",
   "metadata": {},
   "outputs": [],
   "source": []
  },
  {
   "cell_type": "code",
   "execution_count": null,
   "id": "bf707e8a-4000-45d8-ad37-bf7ea4ec8c9b",
   "metadata": {},
   "outputs": [],
   "source": []
  },
  {
   "cell_type": "code",
   "execution_count": null,
   "id": "de68434e-a98e-4a6f-8d7d-87930b6a4006",
   "metadata": {},
   "outputs": [],
   "source": []
  },
  {
   "cell_type": "code",
   "execution_count": null,
   "id": "f9e5e953-a76c-454e-870f-fc624223e8d0",
   "metadata": {},
   "outputs": [],
   "source": []
  },
  {
   "cell_type": "code",
   "execution_count": null,
   "id": "9304cb2a-1ec2-4ff2-81ce-4c787be4c1ba",
   "metadata": {},
   "outputs": [],
   "source": []
  },
  {
   "cell_type": "code",
   "execution_count": null,
   "id": "f7a8e7a6-79f5-4d0c-8b1f-6e90747f62b3",
   "metadata": {},
   "outputs": [],
   "source": []
  },
  {
   "cell_type": "code",
   "execution_count": null,
   "id": "e5c2b66a-a8b0-4997-bc18-e14aceb15b00",
   "metadata": {},
   "outputs": [],
   "source": []
  },
  {
   "cell_type": "code",
   "execution_count": null,
   "id": "b735331d-d0a2-4246-83ab-ce0b119850df",
   "metadata": {},
   "outputs": [],
   "source": []
  },
  {
   "cell_type": "code",
   "execution_count": null,
   "id": "ea9effaa-7940-452a-b3c3-4a17e8a3b0bc",
   "metadata": {},
   "outputs": [],
   "source": []
  },
  {
   "cell_type": "code",
   "execution_count": null,
   "id": "ab988e61-f9b2-4fc2-8506-f6915d946a6c",
   "metadata": {},
   "outputs": [],
   "source": []
  },
  {
   "cell_type": "code",
   "execution_count": null,
   "id": "071aabdc-9656-430c-b218-5674cac536e2",
   "metadata": {},
   "outputs": [],
   "source": []
  },
  {
   "cell_type": "code",
   "execution_count": null,
   "id": "3e942891-6862-4fa2-a604-d0bec1322bf6",
   "metadata": {},
   "outputs": [],
   "source": []
  },
  {
   "cell_type": "code",
   "execution_count": null,
   "id": "095d24b0-3093-4843-abb8-04c4667846c7",
   "metadata": {},
   "outputs": [],
   "source": []
  },
  {
   "cell_type": "code",
   "execution_count": null,
   "id": "b40ff03c-2b27-41c6-9647-9483e79e1a59",
   "metadata": {},
   "outputs": [],
   "source": []
  },
  {
   "cell_type": "code",
   "execution_count": null,
   "id": "c2585acb-ff84-46ab-af30-f0dff3dc8856",
   "metadata": {},
   "outputs": [],
   "source": []
  },
  {
   "cell_type": "code",
   "execution_count": null,
   "id": "142e6938-9d95-459c-b6a5-777603be0374",
   "metadata": {},
   "outputs": [],
   "source": []
  },
  {
   "cell_type": "code",
   "execution_count": null,
   "id": "a75eac28-fa23-4862-84bf-a33ef5d766f8",
   "metadata": {},
   "outputs": [],
   "source": []
  },
  {
   "cell_type": "code",
   "execution_count": null,
   "id": "08295f3e-913d-4fd2-bbc2-0809fe8f7cba",
   "metadata": {},
   "outputs": [],
   "source": []
  }
 ],
 "metadata": {
  "kernelspec": {
   "display_name": "Python 3 (ipykernel)",
   "language": "python",
   "name": "python3"
  },
  "language_info": {
   "codemirror_mode": {
    "name": "ipython",
    "version": 3
   },
   "file_extension": ".py",
   "mimetype": "text/x-python",
   "name": "python",
   "nbconvert_exporter": "python",
   "pygments_lexer": "ipython3",
   "version": "3.10.6"
  }
 },
 "nbformat": 4,
 "nbformat_minor": 5
}
